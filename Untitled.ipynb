{
 "cells": [
  {
   "cell_type": "code",
   "execution_count": 2,
   "id": "a8b7c170",
   "metadata": {},
   "outputs": [
    {
     "name": "stdout",
     "output_type": "stream",
     "text": [
      "1m=>  0\n",
      "1m=>  1\n"
     ]
    }
   ],
   "source": [
    "from tkinter import *\n",
    "\n",
    "janela = Tk()\n",
    "\n",
    "janela.title(\" >>> Como criar os botão Maximizar? <<< \")\n",
    "\n",
    "janela['bg'] = 'gray'\n",
    "\n",
    "janela.wm_attributes('-fullscreen','true')\n",
    "\n",
    "janela.geometry('340x400+500+200')\n",
    "\n",
    "m = 0\n",
    "\n",
    "def minimizar():\n",
    "\n",
    "    janela.overrideredirect(False)\n",
    "\n",
    "    janela.iconify()\n",
    "\n",
    "    janela.wm_attributes('-fullscreen', 'True')\n",
    "\n",
    "def fechar():\n",
    "\n",
    "    janela.destroy()\n",
    "\n",
    "def maximizar1():\n",
    "\n",
    "    global m\n",
    "\n",
    "    m = 0\n",
    "\n",
    "    janela.overrideredirect(True)\n",
    "\n",
    "    janela.geometry('1360x800+0+0')\n",
    "\n",
    "def maximizar():\n",
    "\n",
    "    global m\n",
    "\n",
    "    m = 1\n",
    "\n",
    "    janela.wm_attributes('-fullscreen', 'False')\n",
    "\n",
    "    janela.overrideredirect(True)\n",
    "\n",
    "    janela.geometry('340x300+500+200')\n",
    "\n",
    "def maxi():\n",
    "\n",
    "    print('1m=> ', m)\n",
    "\n",
    "    if m == 0:\n",
    "\n",
    "        maximizar()\n",
    "\n",
    "    elif m == 1:\n",
    "\n",
    "        maximizar1()\n",
    "\n",
    "def move():\n",
    "\n",
    "    pass\n",
    "\n",
    "\n",
    "bt1 = Button(janela, text='Minimizar', font=(\"Helvetica\", 14), bg='grey', command=minimizar)\n",
    "\n",
    "bt1.grid(row=0, column=1)\n",
    "\n",
    "bt2 = Button(janela, text='Maximizar', font=(\"Helvetica\", 14), bg='grey', command=maxi)\n",
    "\n",
    "bt2.grid(row=0, column=2)\n",
    "\n",
    "bt3 = Button(janela, text='Sair', font=(\"Helvetica\", 14), bg='grey', command=fechar)\n",
    "\n",
    "bt3.grid(row=0, column=3)\n",
    "\n",
    "janela.mainloop()"
   ]
  },
  {
   "cell_type": "code",
   "execution_count": null,
   "id": "ef4e0bda",
   "metadata": {},
   "outputs": [],
   "source": []
  }
 ],
 "metadata": {
  "kernelspec": {
   "display_name": "Python 3 (ipykernel)",
   "language": "python",
   "name": "python3"
  },
  "language_info": {
   "codemirror_mode": {
    "name": "ipython",
    "version": 3
   },
   "file_extension": ".py",
   "mimetype": "text/x-python",
   "name": "python",
   "nbconvert_exporter": "python",
   "pygments_lexer": "ipython3",
   "version": "3.9.12"
  }
 },
 "nbformat": 4,
 "nbformat_minor": 5
}
